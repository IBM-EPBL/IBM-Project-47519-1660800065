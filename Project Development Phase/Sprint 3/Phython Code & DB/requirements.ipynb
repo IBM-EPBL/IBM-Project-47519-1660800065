{
 "cells": [
  {
   "cell_type": "code",
   "execution_count": null,
   "id": "f0596f0b",
   "metadata": {},
   "outputs": [],
   "source": [
    "numpy\n",
    "pandas\n",
    "Flask\n",
    "scikit-learn\n",
    "https://download.pytorch.org/whl/cpu/torch-1.7.0%2Bcpu-cp36-cp36m-linux_x86_64.whl\n",
    "https://download.pytorch.org/whl/cpu/torchvision-0.8.1%2Bcpu-cp36-cp36m-linux_x86_64.whl\n",
    "requests\n",
    "Pillow\n",
    "gunicorn == 20.0.4\n",
    "asgiref==3.5.0\n",
    "bcrypt==3.2.0\n",
    "cffi==1.15.0\n",
    "click==8.1.2\n",
    "dnspython==2.2.1\n",
    "email-validator==1.1.3\n",
    "Flask==2.1.1\n",
    "Flask-Bcrypt==1.0.1\n",
    "Flask-Login==0.6.0\n",
    "Flask-SQLAlchemy==2.5.1\n",
    "Flask-WTF==1.0.1\n",
    "greenlet==1.1.2\n",
    "idna==3.3\n",
    "importlib-metadata==4.11.3\n",
    "itsdangerous==2.1.2\n",
    "Jinja2==3.1.1\n",
    "MarkupSafe==2.1.1\n",
    "pycparser==2.21\n",
    "six==1.16.0\n",
    "SQLAlchemy==1.4.35\n",
    "sqlparse==0.4.2\n",
    "Werkzeug==2.1.1\n",
    "WTForms==3.0.1\n",
    "zipp==3.8.0\n",
    "flask_sqlalchemy\n",
    "flask_login\n",
    "flask_wtf\n",
    "wtforms\n",
    "wtforms.validators \n",
    "flask_bcrypt"
   ]
  }
 ],
 "metadata": {
  "kernelspec": {
   "display_name": "Python 3 (ipykernel)",
   "language": "python",
   "name": "python3"
  },
  "language_info": {
   "codemirror_mode": {
    "name": "ipython",
    "version": 3
   },
   "file_extension": ".py",
   "mimetype": "text/x-python",
   "name": "python",
   "nbconvert_exporter": "python",
   "pygments_lexer": "ipython3",
   "version": "3.9.13"
  }
 },
 "nbformat": 4,
 "nbformat_minor": 5
}
